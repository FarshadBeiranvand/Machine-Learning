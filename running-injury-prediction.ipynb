{
 "cells": [
  {
   "cell_type": "raw",
   "id": "b827026b",
   "metadata": {
    "papermill": {
     "duration": 0.003627,
     "end_time": "2024-02-12T13:48:53.383295",
     "exception": false,
     "start_time": "2024-02-12T13:48:53.379668",
     "status": "completed"
    },
    "tags": []
   },
   "source": [
    "## Running Injury Prediction Project\n",
    "\n",
    "### Introduction\n",
    "\n",
    "Running is one of the most popular sports in the world, with millions of participants each year. However, injuries are common among runners, with approximately 50% experiencing some form of injury annually. In this project, we aim to explore how machine learning algorithms can be used to predict running injuries using biomechanical data.\n",
    "\n",
    "### Data Loading and Exploration\n",
    "\n",
    "We will begin by loading the dataset directly from Kaggle and exploring its contents."
   ]
  },
  {
   "cell_type": "code",
   "execution_count": null,
   "id": "ac50ad4b",
   "metadata": {
    "execution": {
     "iopub.execute_input": "2024-02-12T13:48:53.391861Z",
     "iopub.status.busy": "2024-02-12T13:48:53.390977Z",
     "iopub.status.idle": "2024-02-12T13:48:54.752779Z",
     "shell.execute_reply": "2024-02-12T13:48:54.751619Z"
    },
    "papermill": {
     "duration": 1.369066,
     "end_time": "2024-02-12T13:48:54.755779",
     "exception": false,
     "start_time": "2024-02-12T13:48:53.386713",
     "status": "completed"
    },
    "tags": []
   },
   "outputs": [],
   "source": [
    "import pandas as pd\n",
    "\n",
    "# Load the dataset directly from Kaggle\n",
    "df = pd.read_csv(\"/kaggle/input/injury-prediction-for-competitive-runners/week_approach_maskedID_timeseries.csv\")\n",
    "\n",
    "# Display the first few rows of the dataset\n",
    "print(df.head())\n",
    "\n",
    "# Display information about the dataset\n",
    "print(df.info())"
   ]
  },
  {
   "cell_type": "markdown",
   "id": "712ad040",
   "metadata": {
    "papermill": {
     "duration": 0.002969,
     "end_time": "2024-02-12T13:48:54.762292",
     "exception": false,
     "start_time": "2024-02-12T13:48:54.759323",
     "status": "completed"
    },
    "tags": []
   },
   "source": [
    "###Data Preprocessing¶\n",
    "\n",
    "Next, we'll preprocess the data by dropping unnecessary columns."
   ]
  },
  {
   "cell_type": "code",
   "execution_count": null,
   "id": "6b2364db",
   "metadata": {
    "execution": {
     "iopub.execute_input": "2024-02-12T13:48:54.770649Z",
     "iopub.status.busy": "2024-02-12T13:48:54.770062Z",
     "iopub.status.idle": "2024-02-12T13:48:54.794864Z",
     "shell.execute_reply": "2024-02-12T13:48:54.793740Z"
    },
    "papermill": {
     "duration": 0.031824,
     "end_time": "2024-02-12T13:48:54.797287",
     "exception": false,
     "start_time": "2024-02-12T13:48:54.765463",
     "status": "completed"
    },
    "tags": []
   },
   "outputs": [],
   "source": [
    "# Drop unnecessary columns\n",
    "columns_to_drop = ['avg training success', 'min training success', 'max training success', \n",
    "                   # More columns to drop...\n",
    "                   'rel total kms week 1_2']\n",
    "\n",
    "# Filter out columns that exist in the DataFrame\n",
    "columns_to_drop_existing = [col for col in columns_to_drop if col in df.columns]\n",
    "\n",
    "# Drop existing columns\n",
    "if columns_to_drop_existing:\n",
    "    df = df.drop(columns=columns_to_drop_existing)\n",
    "\n",
    "# Display the modified DataFrame\n",
    "print(df.head())\n"
   ]
  },
  {
   "cell_type": "markdown",
   "id": "02da2b02",
   "metadata": {
    "papermill": {
     "duration": 0.003108,
     "end_time": "2024-02-12T13:48:54.803997",
     "exception": false,
     "start_time": "2024-02-12T13:48:54.800889",
     "status": "completed"
    },
    "tags": []
   },
   "source": [
    "### Data Visualization\n",
    "\n",
    "We'll visualize individual athlete data to gain insights into the patterns."
   ]
  },
  {
   "cell_type": "code",
   "execution_count": null,
   "id": "2d8c12d7",
   "metadata": {
    "execution": {
     "iopub.execute_input": "2024-02-12T13:48:54.812676Z",
     "iopub.status.busy": "2024-02-12T13:48:54.811764Z",
     "iopub.status.idle": "2024-02-12T13:48:55.066086Z",
     "shell.execute_reply": "2024-02-12T13:48:55.064951Z"
    },
    "papermill": {
     "duration": 0.261033,
     "end_time": "2024-02-12T13:48:55.068278",
     "exception": false,
     "start_time": "2024-02-12T13:48:54.807245",
     "status": "completed"
    },
    "tags": []
   },
   "outputs": [],
   "source": [
    "import matplotlib.pyplot as plt\n",
    "\n",
    "def plot_individual_data(id, column):\n",
    "    df0 = df[df['Athlete ID'] == id]\n",
    "    plt.figure(figsize=(10, 6))\n",
    "    plt.plot(df0['Date'], df0[column])\n",
    "    plt.xlabel('Date')\n",
    "    plt.ylabel(column)\n",
    "    plt.title(f'Athlete {id} - {column}')\n",
    "    plt.show()\n",
    "\n",
    "# Example usage:\n",
    "plot_individual_data(1, 'total kms')"
   ]
  },
  {
   "cell_type": "markdown",
   "id": "01c55d3d",
   "metadata": {
    "papermill": {
     "duration": 0.004038,
     "end_time": "2024-02-12T13:48:55.076817",
     "exception": false,
     "start_time": "2024-02-12T13:48:55.072779",
     "status": "completed"
    },
    "tags": []
   },
   "source": [
    "### Model Training and Evaluation\n",
    "\n",
    "We'll split the data into features and target variables, then train a K-Nearest Neighbors classifier."
   ]
  },
  {
   "cell_type": "code",
   "execution_count": null,
   "id": "65953435",
   "metadata": {
    "execution": {
     "iopub.execute_input": "2024-02-12T13:48:55.087041Z",
     "iopub.status.busy": "2024-02-12T13:48:55.086656Z",
     "iopub.status.idle": "2024-02-12T13:48:58.548358Z",
     "shell.execute_reply": "2024-02-12T13:48:58.546871Z"
    },
    "papermill": {
     "duration": 3.469692,
     "end_time": "2024-02-12T13:48:58.550794",
     "exception": false,
     "start_time": "2024-02-12T13:48:55.081102",
     "status": "completed"
    },
    "tags": []
   },
   "outputs": [],
   "source": [
    "from sklearn.model_selection import train_test_split\n",
    "from sklearn.neighbors import KNeighborsClassifier\n",
    "from sklearn.preprocessing import StandardScaler\n",
    "from sklearn.metrics import classification_report, confusion_matrix, accuracy_score\n",
    "\n",
    "# Splitting data into features and target\n",
    "X = df.drop(['injury', 'Athlete ID'], axis=1)\n",
    "y = df['injury']\n",
    "\n",
    "# Splitting data into training and testing sets\n",
    "X_train, X_test, y_train, y_test = train_test_split(X, y, test_size=0.3, random_state=42)\n",
    "\n",
    "# Feature Scaling\n",
    "scaler = StandardScaler()\n",
    "X_train = scaler.fit_transform(X_train)\n",
    "X_test = scaler.transform(X_test)\n",
    "\n",
    "# Model Training\n",
    "knn_classifier = KNeighborsClassifier(n_neighbors=5)\n",
    "knn_classifier.fit(X_train, y_train)\n",
    "\n",
    "# Model Evaluation\n",
    "y_pred = knn_classifier.predict(X_test)\n",
    "print(\"Accuracy:\", accuracy_score(y_test, y_pred))\n",
    "print(\"Confusion Matrix:\\n\", confusion_matrix(y_test, y_pred))\n",
    "print(\"Classification Report:\\n\", classification_report(y_test, y_pred))"
   ]
  },
  {
   "cell_type": "markdown",
   "id": "29e93bed",
   "metadata": {
    "papermill": {
     "duration": 0.004519,
     "end_time": "2024-02-12T13:48:58.560456",
     "exception": false,
     "start_time": "2024-02-12T13:48:58.555937",
     "status": "completed"
    },
    "tags": []
   },
   "source": [
    "###Conclusion\n",
    "In this project, we embarked on an exploration of machine learning's potential to predict running injuries using biomechanical data. Through comprehensive data preprocessing, visualization, and model training, we gained valuable insights into the patterns and trends associated with running injuries. While our K-Nearest Neighbors (KNN) classifier exhibited high accuracy in identifying non-injury cases, its performance in detecting injuries was limited, suggesting areas for further improvement. Future endeavors could involve delving deeper into feature engineering, addressing class imbalance, and exploring alternative models or ensemble methods. By continuing to refine our approaches and collaborating with domain experts, we aim to develop more robust predictive models that can aid in injury prevention and enhance the overall well-being of athletes."
   ]
  },
  {
   "cell_type": "code",
   "execution_count": null,
   "id": "3cc17bff",
   "metadata": {
    "papermill": {
     "duration": 0.003923,
     "end_time": "2024-02-12T13:48:58.568664",
     "exception": false,
     "start_time": "2024-02-12T13:48:58.564741",
     "status": "completed"
    },
    "tags": []
   },
   "outputs": [],
   "source": []
  }
 ],
 "metadata": {
  "kaggle": {
   "accelerator": "none",
   "dataSources": [
    {
     "datasetId": 1360225,
     "sourceId": 2260133,
     "sourceType": "datasetVersion"
    }
   ],
   "dockerImageVersionId": 30646,
   "isGpuEnabled": false,
   "isInternetEnabled": false,
   "language": "python",
   "sourceType": "notebook"
  },
  "kernelspec": {
   "display_name": "Python 3 (ipykernel)",
   "language": "python",
   "name": "python3"
  },
  "language_info": {
   "codemirror_mode": {
    "name": "ipython",
    "version": 3
   },
   "file_extension": ".py",
   "mimetype": "text/x-python",
   "name": "python",
   "nbconvert_exporter": "python",
   "pygments_lexer": "ipython3",
   "version": "3.11.5"
  },
  "papermill": {
   "default_parameters": {},
   "duration": 8.424342,
   "end_time": "2024-02-12T13:48:59.092892",
   "environment_variables": {},
   "exception": null,
   "input_path": "__notebook__.ipynb",
   "output_path": "__notebook__.ipynb",
   "parameters": {},
   "start_time": "2024-02-12T13:48:50.668550",
   "version": "2.5.0"
  }
 },
 "nbformat": 4,
 "nbformat_minor": 5
}
